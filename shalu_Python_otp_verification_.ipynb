{
 "cells": [
  {
   "cell_type": "code",
   "execution_count": 1,
   "id": "bdd1adea-9841-4e82-bff5-0f7892ca5283",
   "metadata": {},
   "outputs": [],
   "source": [
    "import random\n",
    "import smtplib\n",
    "import tkinter as tk"
   ]
  },
  {
   "cell_type": "markdown",
   "id": "fc683b5e-8d41-4ea1-aed6-7eb5d185da1c",
   "metadata": {},
   "source": [
    "**THE BELOW CODE AIMS TO RUN A tkinter BASED GUI INTERFACE THAT TAKES INPUT AND GIVES OUTPUT**"
   ]
  },
  {
   "cell_type": "code",
   "execution_count": 26,
   "id": "91d9ce93-c2e1-463a-9211-1a0b833bd978",
   "metadata": {},
   "outputs": [],
   "source": [
    "import random\n",
    "import smtplib\n",
    "from tkinter import *\n",
    "def otp_generator():\n",
    "    randomcode = random.randint(100000, 999999)    \n",
    "    return randomcode\n",
    "                                     #this keep the figure in range of 6 digit \n",
    "sender=\"chauhanshalu590@gmail.com\"\n",
    "password=\"yiqs cgvq exyk wwck\"\n",
    "code= otp_generator()\n",
    "\n",
    "def connectingsender():\n",
    "    receiver = recieverMail.get()\n",
    "    server = smtplib.SMTP('smtp.gmail.com', 587 )  \n",
    "    server.starttls()                      \n",
    "    server.login(sender, password)  \n",
    "    sendingMail(receiver, server)\n",
    "                                            # connects to a smpt server allowing  to send messages\n",
    "                                             # function initiates a secure connection between the email client and the SMTP server.\n",
    "                                            #upgrades the connection from plain text to an encrypted channel using Transport Layer Security (TLS).\n",
    "def sendingMail(receiver, server):\n",
    "    msg= \"Hello ! your OTP is \" + str(code)\n",
    "    server.sendmail(sender, receiver, msg)\n",
    "    server.quit()\n",
    "    \n",
    "def otp_verify():\n",
    "    if str(code) == codeEntry.get():\n",
    "        accept = tk.Label(otp, text ='Access Granted', fg='lightgreen', font= ('Arial',20))\n",
    "        accept.place(x=230,y=350)\n",
    "    else:\n",
    "        refuse= tk.Label(otp, text='Unsuccessful Verification', fg= 'red', font=('Arial',20))\n",
    "        refuse.place(x=230,y=350)\n",
    "\n",
    "otp = Tk()\n",
    "otp.title(\"OTP verification\")\n",
    "otp.geometry(\"750x400+100+100\")\n",
    "otp.configure(background='skyblue')\n",
    "\n",
    "mailmsg= tk.Label(otp, text= 'Enter E-mail', justify=tk.LEFT,bg='orange' , font=('Arial',16))\n",
    "mailmsg.place(x=15,y=40)\n",
    "\n",
    "\n",
    "recieverMail= tk.Entry(otp, text= 'Enter your Email id to get OTP', bg='white', width=35, font=('Arial',20),borderwidth=0)\n",
    "recieverMail.place(x=200,y=40)\n",
    "receiverM= tk.StringVar()\n",
    "\n",
    "\n",
    "sendOTP= tk.Button(otp, text= 'send OTP', bg='yellow', fg= 'black',command= connectingsender)\n",
    "sendOTP.place(x=280,y=100)\n",
    "\n",
    "otpMsg= tk.Label(otp, text='OTP', bg='orange', fg= 'black', font=('Arial',16))\n",
    "otpMsg.place(x=15, y=210)\n",
    "\n",
    "\n",
    "codeEntry = tk.Entry(otp, width=6, font=('Arial',20),borderwidth=0)\n",
    "codeEntry.place(x=100,y=210)\n",
    "\n",
    "\n",
    "verify_button= tk.Button(otp, text= 'Verify Here', bg='yellow', fg= 'black',command=otp_verify)\n",
    "verify_button.config(font=('verdana',12))\n",
    "verify_button.place(x=280, y=280)\n",
    "\n",
    "otp.mainloop()"
   ]
  },
  {
   "cell_type": "markdown",
   "id": "e8ef5bc0-df58-415d-aacf-ecf737451c4a",
   "metadata": {},
   "source": [
    "**APPROACH 2**"
   ]
  },
  {
   "cell_type": "markdown",
   "id": "5704edf9-c171-426d-88c2-0a657e12aa8c",
   "metadata": {},
   "source": [
    "**HERE I AM TRYING TO SPLIT THE ABOVE TASK AND ALLOWING USERS TO ENTER MULTIPLE ENTRIES USING LOOPS FOR MULTIPLE ENTRY CHANCES AND PIPELINE**\""
   ]
  },
  {
   "cell_type": "code",
   "execution_count": 19,
   "id": "2771b325-8135-4f5b-8dfe-ba1099e20c80",
   "metadata": {},
   "outputs": [],
   "source": [
    "import random\n",
    "def otp_generator():\n",
    "    global email       #empty string \n",
    "    global otp\n",
    "    \n",
    "    email = input(\"Please enter Your email id for getting the otp\")\n",
    "    otp = random.randint(100000, 999999)     #this keep the figure in range of 6 digit \n",
    "    "
   ]
  },
  {
   "cell_type": "code",
   "execution_count": 20,
   "id": "9a300d0a-4804-41c4-8934-cefc83604772",
   "metadata": {},
   "outputs": [],
   "source": [
    "def email_sending_stimulate():\n",
    "    import smtplib\n",
    "    if (email.split('@')[1]).split('.')[0] == 'gmail':\n",
    "        smtp_id ='smtp.gmail.com'    \n",
    "        port= 587  \n",
    "    elif (email.split('@')[1]).split('.')[0]== 'yahoo':\n",
    "        smtp_id ='smtp.mail.yahoo.com'    \n",
    "        port= 465\n",
    "    elif (email.split('@')[1]).split('.')[0] == 'hotmail':\n",
    "        smtp_id= 'smtp.office365.com'\n",
    "        port =587\n",
    "    else:\n",
    "        print(\"Unsupported Domain name use gmail or yahoo or hotmail ids\")\n",
    "   \n",
    "\n",
    "\n",
    "    server = smtplib.SMTP('smtp.gmail.com', 587 )  # connects to a smpt server allowing  to send messages\n",
    "    server.starttls()                      # function initiates a secure connection between the email client and the SMTP server.\n",
    "                                            #upgrades the connection from plain text to an encrypted channel using Transport Layer Security (TLS).\n",
    "    server.login(\"chauhanshalu590@gmail.com\", \"yiqs cgvq exyk wwck\")    #set up a email whic will be used to send mails \n",
    "    message = \"Your OTP is\" + str(otp)\n",
    "    \n",
    "    server.sendmail(\"chauhanshalu590@gmail.com\", email, message)\n",
    "    print(\"The OTP has been mailed to the above ID\")\n",
    "    server.quit()\n",
    "    \n"
   ]
  },
  {
   "cell_type": "code",
   "execution_count": 21,
   "id": "ed83c917-acb3-4a58-9f6b-81f8d81a7a29",
   "metadata": {},
   "outputs": [],
   "source": [
    "def otp_verify():\n",
    "    \n",
    "    i=0\n",
    "    while i<3:\n",
    "       \n",
    "        recieved_otp= input(\"Please enter the recieved OTP for verifcation : \")\n",
    "        if str(recieved_otp) == str(otp):\n",
    "            print(\" Access Granted\")\n",
    "            break\n",
    "        else:\n",
    "            i=i+1\n",
    "            print(\"Incorrect OTP !\", end=\"\\n\")\n",
    "            print(f\"Your {i} chances expired\")\n",
    "            print(f\"You have {3-i} more chances left to enter the correct OTP\")\n",
    "            if i==3:\n",
    "                print(\"Sorry ! all your chances expired. Wait for 5 minutes before trying again. Thank You\")\n",
    "                break\n",
    "            else:\n",
    "                  continue\n",
    "\n",
    "          \n",
    "        \n",
    "    \n",
    "        "
   ]
  },
  {
   "cell_type": "code",
   "execution_count": 22,
   "id": "c71d6d19-db69-4600-9ab0-384a235fbf8b",
   "metadata": {},
   "outputs": [],
   "source": [
    "class Pipeline:\n",
    "  def __init__(self):\n",
    "    self.steps = []\n",
    "\n",
    "  def add_step(self, function):\n",
    "    self.steps.append(function)\n",
    "\n",
    "  def run(self):\n",
    "    for function in self.steps:\n",
    "      function()\n"
   ]
  },
  {
   "cell_type": "code",
   "execution_count": 23,
   "id": "9fee8545-e9df-4e18-be00-f1c9978b9833",
   "metadata": {},
   "outputs": [
    {
     "ename": "KeyboardInterrupt",
     "evalue": "Interrupted by user",
     "output_type": "error",
     "traceback": [
      "\u001b[1;31m---------------------------------------------------------------------------\u001b[0m",
      "\u001b[1;31mKeyboardInterrupt\u001b[0m                         Traceback (most recent call last)",
      "Cell \u001b[1;32mIn[23], line 11\u001b[0m\n\u001b[0;32m      8\u001b[0m     pipeline\u001b[38;5;241m.\u001b[39madd_step(otp_verify)\n\u001b[0;32m     10\u001b[0m     pipeline\u001b[38;5;241m.\u001b[39mrun()\n\u001b[1;32m---> 11\u001b[0m OTP_gen()\n",
      "Cell \u001b[1;32mIn[23], line 10\u001b[0m, in \u001b[0;36mOTP_gen\u001b[1;34m()\u001b[0m\n\u001b[0;32m      6\u001b[0m pipeline\u001b[38;5;241m.\u001b[39madd_step(email_sending_stimulate)\n\u001b[0;32m      8\u001b[0m pipeline\u001b[38;5;241m.\u001b[39madd_step(otp_verify)\n\u001b[1;32m---> 10\u001b[0m pipeline\u001b[38;5;241m.\u001b[39mrun()\n",
      "Cell \u001b[1;32mIn[22], line 10\u001b[0m, in \u001b[0;36mPipeline.run\u001b[1;34m(self)\u001b[0m\n\u001b[0;32m      8\u001b[0m \u001b[38;5;28;01mdef\u001b[39;00m \u001b[38;5;21mrun\u001b[39m(\u001b[38;5;28mself\u001b[39m):\n\u001b[0;32m      9\u001b[0m   \u001b[38;5;28;01mfor\u001b[39;00m function \u001b[38;5;129;01min\u001b[39;00m \u001b[38;5;28mself\u001b[39m\u001b[38;5;241m.\u001b[39msteps:\n\u001b[1;32m---> 10\u001b[0m     function()\n",
      "Cell \u001b[1;32mIn[19], line 6\u001b[0m, in \u001b[0;36motp_generator\u001b[1;34m()\u001b[0m\n\u001b[0;32m      3\u001b[0m \u001b[38;5;28;01mglobal\u001b[39;00m email       \u001b[38;5;66;03m#empty string \u001b[39;00m\n\u001b[0;32m      4\u001b[0m \u001b[38;5;28;01mglobal\u001b[39;00m otp\n\u001b[1;32m----> 6\u001b[0m email \u001b[38;5;241m=\u001b[39m \u001b[38;5;28minput\u001b[39m(\u001b[38;5;124m\"\u001b[39m\u001b[38;5;124mPlease enter Your email id for getting the otp\u001b[39m\u001b[38;5;124m\"\u001b[39m)\n\u001b[0;32m      7\u001b[0m otp \u001b[38;5;241m=\u001b[39m random\u001b[38;5;241m.\u001b[39mrandint(\u001b[38;5;241m100000\u001b[39m, \u001b[38;5;241m999999\u001b[39m)\n",
      "File \u001b[1;32mC:\\ProgramData\\anaconda3\\Lib\\site-packages\\ipykernel\\kernelbase.py:1262\u001b[0m, in \u001b[0;36mKernel.raw_input\u001b[1;34m(self, prompt)\u001b[0m\n\u001b[0;32m   1260\u001b[0m     msg \u001b[38;5;241m=\u001b[39m \u001b[38;5;124m\"\u001b[39m\u001b[38;5;124mraw_input was called, but this frontend does not support input requests.\u001b[39m\u001b[38;5;124m\"\u001b[39m\n\u001b[0;32m   1261\u001b[0m     \u001b[38;5;28;01mraise\u001b[39;00m StdinNotImplementedError(msg)\n\u001b[1;32m-> 1262\u001b[0m \u001b[38;5;28;01mreturn\u001b[39;00m \u001b[38;5;28mself\u001b[39m\u001b[38;5;241m.\u001b[39m_input_request(\n\u001b[0;32m   1263\u001b[0m     \u001b[38;5;28mstr\u001b[39m(prompt),\n\u001b[0;32m   1264\u001b[0m     \u001b[38;5;28mself\u001b[39m\u001b[38;5;241m.\u001b[39m_parent_ident[\u001b[38;5;124m\"\u001b[39m\u001b[38;5;124mshell\u001b[39m\u001b[38;5;124m\"\u001b[39m],\n\u001b[0;32m   1265\u001b[0m     \u001b[38;5;28mself\u001b[39m\u001b[38;5;241m.\u001b[39mget_parent(\u001b[38;5;124m\"\u001b[39m\u001b[38;5;124mshell\u001b[39m\u001b[38;5;124m\"\u001b[39m),\n\u001b[0;32m   1266\u001b[0m     password\u001b[38;5;241m=\u001b[39m\u001b[38;5;28;01mFalse\u001b[39;00m,\n\u001b[0;32m   1267\u001b[0m )\n",
      "File \u001b[1;32mC:\\ProgramData\\anaconda3\\Lib\\site-packages\\ipykernel\\kernelbase.py:1305\u001b[0m, in \u001b[0;36mKernel._input_request\u001b[1;34m(self, prompt, ident, parent, password)\u001b[0m\n\u001b[0;32m   1302\u001b[0m \u001b[38;5;28;01mexcept\u001b[39;00m \u001b[38;5;167;01mKeyboardInterrupt\u001b[39;00m:\n\u001b[0;32m   1303\u001b[0m     \u001b[38;5;66;03m# re-raise KeyboardInterrupt, to truncate traceback\u001b[39;00m\n\u001b[0;32m   1304\u001b[0m     msg \u001b[38;5;241m=\u001b[39m \u001b[38;5;124m\"\u001b[39m\u001b[38;5;124mInterrupted by user\u001b[39m\u001b[38;5;124m\"\u001b[39m\n\u001b[1;32m-> 1305\u001b[0m     \u001b[38;5;28;01mraise\u001b[39;00m \u001b[38;5;167;01mKeyboardInterrupt\u001b[39;00m(msg) \u001b[38;5;28;01mfrom\u001b[39;00m \u001b[38;5;28;01mNone\u001b[39;00m\n\u001b[0;32m   1306\u001b[0m \u001b[38;5;28;01mexcept\u001b[39;00m \u001b[38;5;167;01mException\u001b[39;00m:\n\u001b[0;32m   1307\u001b[0m     \u001b[38;5;28mself\u001b[39m\u001b[38;5;241m.\u001b[39mlog\u001b[38;5;241m.\u001b[39mwarning(\u001b[38;5;124m\"\u001b[39m\u001b[38;5;124mInvalid Message:\u001b[39m\u001b[38;5;124m\"\u001b[39m, exc_info\u001b[38;5;241m=\u001b[39m\u001b[38;5;28;01mTrue\u001b[39;00m)\n",
      "\u001b[1;31mKeyboardInterrupt\u001b[0m: Interrupted by user"
     ]
    }
   ],
   "source": [
    "# let's put this pipeline class inside a function to be able to call it for gradio\n",
    "def OTP_gen():\n",
    "    pipeline = Pipeline()   #generating instance of a class\n",
    "    # Add steps to the pipeline\n",
    "    pipeline.add_step(otp_generator)     #here we do not use parenthesis after the function as that calling will be done by the \n",
    "    pipeline.add_step(email_sending_stimulate)\n",
    "\n",
    "    pipeline.add_step(otp_verify)\n",
    "\n",
    "    pipeline.run()\n",
    "OTP_gen()\n"
   ]
  }
 ],
 "metadata": {
  "kernelspec": {
   "display_name": "Python 3 (ipykernel)",
   "language": "python",
   "name": "python3"
  },
  "language_info": {
   "codemirror_mode": {
    "name": "ipython",
    "version": 3
   },
   "file_extension": ".py",
   "mimetype": "text/x-python",
   "name": "python",
   "nbconvert_exporter": "python",
   "pygments_lexer": "ipython3",
   "version": "3.11.7"
  }
 },
 "nbformat": 4,
 "nbformat_minor": 5
}
